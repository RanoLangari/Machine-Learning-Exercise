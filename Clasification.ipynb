{
 "cells": [
  {
   "cell_type": "code",
   "execution_count": 10,
   "id": "70f4d046",
   "metadata": {},
   "outputs": [],
   "source": [
    "import zipfile\n",
    "with zipfile.ZipFile('./iris.zip', 'r') as zip_ref:\n",
    "    zip_ref.extractall('./')"
   ]
  },
  {
   "cell_type": "code",
   "execution_count": 1,
   "id": "9f8e326f",
   "metadata": {},
   "outputs": [],
   "source": [
    "import pandas as pd\n",
    "iris = pd.read_csv('./Iris.csv')"
   ]
  },
  {
   "cell_type": "code",
   "execution_count": 2,
   "id": "b441f20e",
   "metadata": {},
   "outputs": [
    {
     "name": "stdout",
     "output_type": "stream",
     "text": [
      "<class 'pandas.core.frame.DataFrame'>\n",
      "RangeIndex: 150 entries, 0 to 149\n",
      "Data columns (total 6 columns):\n",
      " #   Column         Non-Null Count  Dtype  \n",
      "---  ------         --------------  -----  \n",
      " 0   Id             150 non-null    int64  \n",
      " 1   SepalLengthCm  150 non-null    float64\n",
      " 2   SepalWidthCm   150 non-null    float64\n",
      " 3   PetalLengthCm  150 non-null    float64\n",
      " 4   PetalWidthCm   150 non-null    float64\n",
      " 5   Species        150 non-null    object \n",
      "dtypes: float64(4), int64(1), object(1)\n",
      "memory usage: 7.2+ KB\n"
     ]
    },
    {
     "data": {
      "text/html": [
       "<div>\n",
       "<style scoped>\n",
       "    .dataframe tbody tr th:only-of-type {\n",
       "        vertical-align: middle;\n",
       "    }\n",
       "\n",
       "    .dataframe tbody tr th {\n",
       "        vertical-align: top;\n",
       "    }\n",
       "\n",
       "    .dataframe thead th {\n",
       "        text-align: right;\n",
       "    }\n",
       "</style>\n",
       "<table border=\"1\" class=\"dataframe\">\n",
       "  <thead>\n",
       "    <tr style=\"text-align: right;\">\n",
       "      <th></th>\n",
       "      <th>Id</th>\n",
       "      <th>SepalLengthCm</th>\n",
       "      <th>SepalWidthCm</th>\n",
       "      <th>PetalLengthCm</th>\n",
       "      <th>PetalWidthCm</th>\n",
       "      <th>Species</th>\n",
       "    </tr>\n",
       "  </thead>\n",
       "  <tbody>\n",
       "    <tr>\n",
       "      <th>0</th>\n",
       "      <td>1</td>\n",
       "      <td>5.1</td>\n",
       "      <td>3.5</td>\n",
       "      <td>1.4</td>\n",
       "      <td>0.2</td>\n",
       "      <td>Iris-setosa</td>\n",
       "    </tr>\n",
       "    <tr>\n",
       "      <th>1</th>\n",
       "      <td>2</td>\n",
       "      <td>4.9</td>\n",
       "      <td>3.0</td>\n",
       "      <td>1.4</td>\n",
       "      <td>0.2</td>\n",
       "      <td>Iris-setosa</td>\n",
       "    </tr>\n",
       "    <tr>\n",
       "      <th>2</th>\n",
       "      <td>3</td>\n",
       "      <td>4.7</td>\n",
       "      <td>3.2</td>\n",
       "      <td>1.3</td>\n",
       "      <td>0.2</td>\n",
       "      <td>Iris-setosa</td>\n",
       "    </tr>\n",
       "    <tr>\n",
       "      <th>3</th>\n",
       "      <td>4</td>\n",
       "      <td>4.6</td>\n",
       "      <td>3.1</td>\n",
       "      <td>1.5</td>\n",
       "      <td>0.2</td>\n",
       "      <td>Iris-setosa</td>\n",
       "    </tr>\n",
       "    <tr>\n",
       "      <th>4</th>\n",
       "      <td>5</td>\n",
       "      <td>5.0</td>\n",
       "      <td>3.6</td>\n",
       "      <td>1.4</td>\n",
       "      <td>0.2</td>\n",
       "      <td>Iris-setosa</td>\n",
       "    </tr>\n",
       "  </tbody>\n",
       "</table>\n",
       "</div>"
      ],
      "text/plain": [
       "   Id  SepalLengthCm  SepalWidthCm  PetalLengthCm  PetalWidthCm      Species\n",
       "0   1            5.1           3.5            1.4           0.2  Iris-setosa\n",
       "1   2            4.9           3.0            1.4           0.2  Iris-setosa\n",
       "2   3            4.7           3.2            1.3           0.2  Iris-setosa\n",
       "3   4            4.6           3.1            1.5           0.2  Iris-setosa\n",
       "4   5            5.0           3.6            1.4           0.2  Iris-setosa"
      ]
     },
     "execution_count": 2,
     "metadata": {},
     "output_type": "execute_result"
    }
   ],
   "source": [
    "# Melihat informasi dataset\n",
    "iris.info()\n",
    " \n",
    "# melihat informasi dataset pada 5 baris pertama\n",
    "iris.head()"
   ]
  },
  {
   "cell_type": "code",
   "execution_count": 3,
   "id": "dd92f4d5",
   "metadata": {},
   "outputs": [],
   "source": [
    "# menghilangkan kolom yang tidak penting\n",
    "iris.drop('Id',axis=1,inplace=True)"
   ]
  },
  {
   "cell_type": "markdown",
   "id": "49487734",
   "metadata": {},
   "source": [
    "Kode diatas digunakan menghapus kolom `Id` dari DataFrame `iris` menggunakan pustaka pandas dalam Python. Mari kita bahas setiap bagian dari perintah tersebut:\n",
    "\n",
    "```python\n",
    "iris.drop('Id', axis=1, inplace=True)\n",
    "```\n",
    "\n",
    "1. **`iris`**: Merupakan variabel yang menyimpan objek DataFrame. Asumsikan bahwa ini adalah dataset iris yang umum digunakan dalam contoh dan tutorial machine learning. DataFrame ini mungkin memiliki beberapa kolom seperti panjang dan lebar kelopak (petal length, petal width) dan panjang dan lebar sepal (sepal length, sepal width), serta `Id` yang merupakan identifikasi unik untuk setiap baris/contoh.\n",
    "\n",
    "2. **`.drop()`**: Merupakan metode yang disediakan oleh pustaka pandas untuk menghapus baris atau kolom dari DataFrame.\n",
    "\n",
    "3. **`'Id'`**: Argumen pertama dari metode `.drop()` ini menentukan label kolom atau baris yang ingin dihapus. Dalam hal ini, `'Id'` adalah nama kolom yang akan dihapus.\n",
    "\n",
    "4. **`axis=1`**: Argumen ini menentukan apakah operasi penghapusan dilakukan pada baris atau kolom. `axis=1` menunjukkan bahwa operasi akan dilakukan pada kolom, sedangkan `axis=0` (nilai default) digunakan untuk baris.\n",
    "\n",
    "5. **`inplace=True`**: Argumen ini menentukan apakah perubahan akan dilakukan langsung pada objek DataFrame asli atau tidak. Dengan `inplace=True`, kolom `'Id'` akan dihapus dari DataFrame `iris` langsung, dan tidak diperlukan penugasan objek DataFrame baru untuk menyimpan hasilnya. Jika `inplace` tidak diset atau diset `False`, maka `.drop()` akan mengembalikan DataFrame baru dengan kolom tersebut dihapus, dan DataFrame asli `iris` akan tetap tidak berubah.\n",
    "\n",
    "Secara keseluruhan, perintah ini menghapus kolom `Id` dari DataFrame `iris` langsung, yang mungkin berguna untuk membersihkan data sebelum melakukan analisis lebih lanjut atau pelatihan model machine learning, karena kolom `Id` biasanya tidak mengandung informasi yang berguna untuk analisis/prediksi statistik."
   ]
  },
  {
   "cell_type": "code",
   "execution_count": 4,
   "id": "9e25c03d",
   "metadata": {},
   "outputs": [],
   "source": [
    "X = iris[['SepalLengthCm', 'SepalWidthCm', 'PetalLengthCm', 'PetalWidthCm' ]]\n",
    "y = iris['Species']\n",
    "\n",
    "from sklearn.model_selection import train_test_split\n",
    "X_train, X_test, y_train, y_test = train_test_split(X, y, test_size=0.1, random_state=123)"
   ]
  },
  {
   "cell_type": "code",
   "execution_count": 5,
   "id": "f78de6f5",
   "metadata": {},
   "outputs": [],
   "source": [
    "from sklearn.tree import DecisionTreeClassifier\n",
    "\n",
    "#membuat model decision tree\n",
    "tree_model = DecisionTreeClassifier()\n",
    "\n",
    "#melatih model menggunakan data latih\n",
    "tree_model = tree_model.fit(X_train, y_train)"
   ]
  },
  {
   "cell_type": "code",
   "execution_count": 7,
   "id": "bcc284f9",
   "metadata": {},
   "outputs": [
    {
     "name": "stdout",
     "output_type": "stream",
     "text": [
      "Accuracy =  0.933\n"
     ]
    }
   ],
   "source": [
    "# evaluasi model\n",
    "from sklearn.metrics import accuracy_score\n",
    "\n",
    "y_pred = tree_model.predict(X_test)\n",
    "\n",
    "acc_score = round(accuracy_score(y_pred, y_test), 3)\n",
    "print('Accuracy = ', acc_score)"
   ]
  },
  {
   "cell_type": "code",
   "execution_count": 8,
   "id": "527ec687",
   "metadata": {},
   "outputs": [
    {
     "name": "stdout",
     "output_type": "stream",
     "text": [
      "Iris-virginica\n"
     ]
    },
    {
     "name": "stderr",
     "output_type": "stream",
     "text": [
      "/anaconda/envs/azureml_py310_sdkv2/lib/python3.10/site-packages/sklearn/base.py:493: UserWarning: X does not have valid feature names, but DecisionTreeClassifier was fitted with feature names\n",
      "  warnings.warn(\n"
     ]
    }
   ],
   "source": [
    "# prediksi model dengan tree_model.predict([[SepalLength, SepalWidth, PetalLength, PetalWidth]])\n",
    "print(tree_model.predict([[6.2, 3.4, 5.4, 2.3]])[0])"
   ]
  },
  {
   "cell_type": "code",
   "execution_count": 9,
   "id": "90cecaa2",
   "metadata": {},
   "outputs": [],
   "source": [
    "from sklearn.tree import export_graphviz\n",
    "export_graphviz(\n",
    "    tree_model,\n",
    "    out_file = \"iris_tree.dot\",\n",
    "    feature_names = ['SepalLengthCm', 'SepalWidthCm', 'PetalLengthCm', 'PetalWidthCm'],\n",
    "    class_names = ['Iris-setosa', 'Iris-versicolor', 'Iris-virginica' ],\n",
    "    rounded= True,\n",
    "    filled =True)"
   ]
  }
 ],
 "metadata": {
  "kernelspec": {
   "display_name": "Python 3",
   "language": "python",
   "name": "python3"
  },
  "language_info": {
   "codemirror_mode": {
    "name": "ipython",
    "version": 3
   },
   "file_extension": ".py",
   "mimetype": "text/x-python",
   "name": "python",
   "nbconvert_exporter": "python",
   "pygments_lexer": "ipython3",
   "version": "3.10.14"
  }
 },
 "nbformat": 4,
 "nbformat_minor": 5
}
